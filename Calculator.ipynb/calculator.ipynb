{
 "cells": [
  {
   "cell_type": "code",
   "execution_count": null,
   "metadata": {},
   "outputs": [],
   "source": [
    "first=int(input())\n",
    "second=int(input())\n",
    "operator=input(\"enter operator(+,-,*,/,%):\")\n",
    "if operator==\"+\":\n",
    "    print(first+second)\n",
    "elif operator==\"-\":\n",
    "    print(first-second)\n",
    "elif operator==\"*\":\n",
    "    print(first*second)\n",
    "elif operator==\"/\":\n",
    "    print(first/second)\n",
    "elif operator==\"%\":\n",
    "    print(first%second)\n",
    "else:\n",
    "    print(\"invalid operation\")"
   ]
  }
 ],
 "metadata": {
  "language_info": {
   "name": "python"
  }
 },
 "nbformat": 4,
 "nbformat_minor": 2
}
